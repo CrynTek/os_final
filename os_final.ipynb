{
  "cells": [
    {
      "cell_type": "markdown",
      "metadata": {
        "id": "uKhQ0swdW5ej"
      },
      "source": [
        "### รหัสนักศึกษา 6304101313\n",
        "### ชื่อ-นามสกุล นายจักริน ษมาจิตรสุริยา\n",
        "### กลุ่ม 1"
      ]
    }
  ],
  "metadata": {
    "accelerator": "GPU",
    "colab": {
      "collapsed_sections": [],
      "name": "Lab_3_6304101313.ipynb",
      "provenance": []
    },
    "kernelspec": {
      "display_name": "Python 3",
      "name": "python3"
    }
  },
  "nbformat": 4,
  "nbformat_minor": 0
}
